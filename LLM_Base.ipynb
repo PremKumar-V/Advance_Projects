{
  "nbformat": 4,
  "nbformat_minor": 0,
  "metadata": {
    "colab": {
      "provenance": [],
      "gpuType": "T4",
      "authorship_tag": "ABX9TyPby8mc4l9jpvX6yqpsynPm",
      "include_colab_link": true
    },
    "kernelspec": {
      "name": "python3",
      "display_name": "Python 3"
    },
    "language_info": {
      "name": "python"
    },
    "accelerator": "GPU"
  },
  "cells": [
    {
      "cell_type": "markdown",
      "metadata": {
        "id": "view-in-github",
        "colab_type": "text"
      },
      "source": [
        "<a href=\"https://colab.research.google.com/github/PremKumar-V/Advance_Projects/blob/main/LLM_Base.ipynb\" target=\"_parent\"><img src=\"https://colab.research.google.com/assets/colab-badge.svg\" alt=\"Open In Colab\"/></a>"
      ]
    },
    {
      "cell_type": "code",
      "source": [
        "!pip install language-tool-python --quiet"
      ],
      "metadata": {
        "id": "eQS9t7jfHN4l"
      },
      "execution_count": 46,
      "outputs": []
    },
    {
      "cell_type": "code",
      "source": [
        "import re\n",
        "import string\n",
        "import random\n",
        "import requests\n",
        "import textwrap\n",
        "\n",
        "import numpy as np\n",
        "\n",
        "import matplotlib.pyplot as plt\n",
        "%matplotlib inline\n",
        "\n",
        "import nltk\n",
        "import language_tool_python\n",
        "from nltk.corpus import words\n",
        "\n",
        "import torch\n",
        "import torch.nn as nn\n",
        "import torch.optim as optim\n",
        "from torch.utils.data import Dataset, DataLoader\n",
        "\n",
        "from torchtext.vocab import build_vocab_from_iterator\n",
        "from torchtext.data.utils import get_tokenizer, ngrams_iterator"
      ],
      "metadata": {
        "id": "soKWO1BETI-p"
      },
      "execution_count": 52,
      "outputs": []
    },
    {
      "cell_type": "code",
      "source": [
        "tool = language_tool_python.LanguageTool('en-US')\n",
        "nltk.download('words')"
      ],
      "metadata": {
        "colab": {
          "base_uri": "https://localhost:8080/"
        },
        "id": "n_CahjhAHb0M",
        "outputId": "4ffc0328-501b-4b69-9c44-1d09203cdfb4"
      },
      "execution_count": 53,
      "outputs": [
        {
          "output_type": "stream",
          "name": "stderr",
          "text": [
            "[nltk_data] Downloading package words to /root/nltk_data...\n",
            "[nltk_data]   Unzipping corpora/words.zip.\n"
          ]
        },
        {
          "output_type": "execute_result",
          "data": {
            "text/plain": [
              "True"
            ]
          },
          "metadata": {},
          "execution_count": 53
        }
      ]
    },
    {
      "cell_type": "code",
      "source": [
        "cDATA_URL = 'https://raw.githubusercontent.com/kyuz0/llm-chronicles/main/4.4%20-%20Lab%20-%20Word-Level%20RNN/fairy_tales_cleaned_most_common_5000_words.txt'\n",
        "FILE_PATH = './data.txt'\n",
        "\n",
        "def getData():\n",
        "    response = requests.get(DATA_URL)\n",
        "    with open(FILE_PATH, 'w') as file:\n",
        "        file.write(response.text)\n",
        "\n",
        "    with open(FILE_PATH, 'r') as file:\n",
        "        text = file.read()\n",
        "\n",
        "    return text\n",
        "\n",
        "data = getData()"
      ],
      "metadata": {
        "id": "SFQUxvZgTdqJ"
      },
      "execution_count": 2,
      "outputs": []
    },
    {
      "cell_type": "code",
      "source": [
        "print(f\"Length of Data: {len(data)}\")"
      ],
      "metadata": {
        "colab": {
          "base_uri": "https://localhost:8080/"
        },
        "id": "7a3qeQcPTydo",
        "outputId": "940fb679-494f-41f5-fce5-df7d2cb7c4ce"
      },
      "execution_count": 3,
      "outputs": [
        {
          "output_type": "stream",
          "name": "stdout",
          "text": [
            "Length of Data: 2751174\n"
          ]
        }
      ]
    },
    {
      "cell_type": "code",
      "source": [
        "print(f\"Sample Data: '{data[:100]}'\")"
      ],
      "metadata": {
        "colab": {
          "base_uri": "https://localhost:8080/"
        },
        "id": "IO3ivu5SU6MR",
        "outputId": "4e288c4c-d803-4728-a389-d2a651a872d4"
      },
      "execution_count": 4,
      "outputs": [
        {
          "output_type": "stream",
          "name": "stdout",
          "text": [
            "Sample Data: 'the happy prince. high above the city on a tall column stood the statue of the happy prince. he was '\n"
          ]
        }
      ]
    },
    {
      "cell_type": "code",
      "source": [
        "sampleData = data[:95]\n",
        "sampleData"
      ],
      "metadata": {
        "colab": {
          "base_uri": "https://localhost:8080/",
          "height": 35
        },
        "id": "7qzbPe39VIPL",
        "outputId": "6f257e7a-8af9-4168-9958-2c6e7030557d"
      },
      "execution_count": 5,
      "outputs": [
        {
          "output_type": "execute_result",
          "data": {
            "text/plain": [
              "'the happy prince. high above the city on a tall column stood the statue of the happy prince. he'"
            ],
            "application/vnd.google.colaboratory.intrinsic+json": {
              "type": "string"
            }
          },
          "metadata": {},
          "execution_count": 5
        }
      ]
    },
    {
      "cell_type": "code",
      "source": [
        "class Preprocessor():\n",
        "    def __init__(self, data):\n",
        "        self.data = data\n",
        "        self.seq_length = 50\n",
        "        self.chunk_size = self.seq_length + 1\n",
        "        self.tokenizer = get_tokenizer('basic_english')\n",
        "\n",
        "    def tokenize(self):\n",
        "        return self.tokenizer(self.data)\n",
        "\n",
        "    def buildVocab(self, tokens):\n",
        "\n",
        "        def token_iterator():\n",
        "            yield tokens\n",
        "\n",
        "        vocab = build_vocab_from_iterator(token_iterator(), min_freq=1)\n",
        "        return vocab\n",
        "\n",
        "    def encodeTokens(self, tokens, vocab):\n",
        "        encoding = torch.tensor([vocab[token] for token in tokens], dtype=torch.long)\n",
        "\n",
        "        text_chunks = [encoding[i:i + self.chunk_size] for i in range(len(encoding) - self.chunk_size + 1)]\n",
        "\n",
        "        for seq in text_chunks[:1]:\n",
        "            input_seq = seq[:self.seq_length]\n",
        "            target = seq[self.seq_length]\n",
        "\n",
        "            input_seq_list = input_seq.tolist()\n",
        "            target_list = target.tolist()\n",
        "\n",
        "        return text_chunks\n",
        "\n",
        "    def getData(self):\n",
        "        tokens = self.tokenize()\n",
        "        vocab = self.buildVocab(tokens)\n",
        "        encodings = self.encodeTokens(tokens, vocab)\n",
        "\n",
        "        return tokens, vocab, encodings"
      ],
      "metadata": {
        "id": "m4T9KOmAvgyD"
      },
      "execution_count": 6,
      "outputs": []
    },
    {
      "cell_type": "code",
      "source": [
        "preprocessor = Preprocessor(data)\n",
        "tokens, vocab, textChunks = preprocessor.getData()\n",
        "\n",
        "print(f'Tokens: {tokens[:20]}')\n",
        "print(f\"Length of Tokens: {len(tokens)}\")\n",
        "print(f\"Length of Vocabulary: {len(vocab)}\")"
      ],
      "metadata": {
        "colab": {
          "base_uri": "https://localhost:8080/"
        },
        "id": "MP-opR2f06cw",
        "outputId": "9a0678fc-d4be-4c9d-bd49-7e277e4e0070"
      },
      "execution_count": 7,
      "outputs": [
        {
          "output_type": "stream",
          "name": "stdout",
          "text": [
            "Tokens: ['the', 'happy', 'prince', '.', 'high', 'above', 'the', 'city', 'on', 'a', 'tall', 'column', 'stood', 'the', 'statue', 'of', 'the', 'happy', 'prince', '.']\n",
            "Length of Tokens: 584959\n",
            "Length of Vocabulary: 5372\n"
          ]
        }
      ]
    },
    {
      "cell_type": "code",
      "source": [
        "textChunks[:3]"
      ],
      "metadata": {
        "colab": {
          "base_uri": "https://localhost:8080/"
        },
        "id": "28Le18I39kK1",
        "outputId": "86a58d9c-217e-4d2b-95c3-ce2de74cbb2c"
      },
      "execution_count": 8,
      "outputs": [
        {
          "output_type": "execute_result",
          "data": {
            "text/plain": [
              "[tensor([   1,  237,  106,    0,  436,  677,    1,  664,   27,    5, 1337, 4745,\n",
              "          179,    1, 3888,    7,    1,  237,  106,    0,    4,    6,   49,  101,\n",
              "         3493,  284,    0,   36,  138,   34,  338,  104,    1,  664,    5,   43,\n",
              "         1856,    0,   38,   32,    1, 2399,   52,   20,   26,  338,   81,    0,\n",
              "           35,   50,    4]),\n",
              " tensor([ 237,  106,    0,  436,  677,    1,  664,   27,    5, 1337, 4745,  179,\n",
              "            1, 3888,    7,    1,  237,  106,    0,    4,    6,   49,  101, 3493,\n",
              "          284,    0,   36,  138,   34,  338,  104,    1,  664,    5,   43, 1856,\n",
              "            0,   38,   32,    1, 2399,   52,   20,   26,  338,   81,    0,   35,\n",
              "           50,    4,   59]),\n",
              " tensor([ 106,    0,  436,  677,    1,  664,   27,    5, 1337, 4745,  179,    1,\n",
              "         3888,    7,    1,  237,  106,    0,    4,    6,   49,  101, 3493,  284,\n",
              "            0,   36,  138,   34,  338,  104,    1,  664,    5,   43, 1856,    0,\n",
              "           38,   32,    1, 2399,   52,   20,   26,  338,   81,    0,   35,   50,\n",
              "            4,   59,    1])]"
            ]
          },
          "metadata": {},
          "execution_count": 8
        }
      ]
    },
    {
      "cell_type": "code",
      "source": [
        "class TextDataset(Dataset):\n",
        "    def __init__(self, text_chunks):\n",
        "        self.text_chunks = text_chunks\n",
        "\n",
        "    def __len__(self):\n",
        "        return len(self.text_chunks)\n",
        "\n",
        "    def __getitem__(self, idx):\n",
        "        text_chunk = self.text_chunks[idx]\n",
        "        return text_chunk[:-1].long(), text_chunk[1:].long()\n",
        "\n",
        "dataset = TextDataset(textChunks)"
      ],
      "metadata": {
        "id": "hH-nhSAnY8kT"
      },
      "execution_count": 9,
      "outputs": []
    },
    {
      "cell_type": "code",
      "source": [
        "for i in range(1):\n",
        "    values = dataset[i]\n",
        "    inputs, targets = values\n",
        "    inputs_words = \" \".join(vocab.lookup_tokens(inputs.tolist()))\n",
        "    targets_words = \" \".join(vocab.lookup_tokens(targets.tolist()))\n",
        "\n",
        "    print(f\"Input Tokens: {inputs}\")\n",
        "    print(f\"Target Tokens: {targets}\")\n",
        "    print(f\"Input Words: {inputs_words}\")\n",
        "    print(f\"Target Words: {targets_words}\")"
      ],
      "metadata": {
        "colab": {
          "base_uri": "https://localhost:8080/"
        },
        "id": "v-F8g2RGArvk",
        "outputId": "d4c3a767-160c-4134-fc99-1b22a2069ced"
      },
      "execution_count": 10,
      "outputs": [
        {
          "output_type": "stream",
          "name": "stdout",
          "text": [
            "Input Tokens: tensor([   1,  237,  106,    0,  436,  677,    1,  664,   27,    5, 1337, 4745,\n",
            "         179,    1, 3888,    7,    1,  237,  106,    0,    4,    6,   49,  101,\n",
            "        3493,  284,    0,   36,  138,   34,  338,  104,    1,  664,    5,   43,\n",
            "        1856,    0,   38,   32,    1, 2399,   52,   20,   26,  338,   81,    0,\n",
            "          35,   50])\n",
            "Target Tokens: tensor([ 237,  106,    0,  436,  677,    1,  664,   27,    5, 1337, 4745,  179,\n",
            "           1, 3888,    7,    1,  237,  106,    0,    4,    6,   49,  101, 3493,\n",
            "         284,    0,   36,  138,   34,  338,  104,    1,  664,    5,   43, 1856,\n",
            "           0,   38,   32,    1, 2399,   52,   20,   26,  338,   81,    0,   35,\n",
            "          50,    4])\n",
            "Input Words: the happy prince . high above the city on a tall column stood the statue of the happy prince . he was very much admired indeed . one night there flew over the city a little swallow . then when the autumn came they all flew away . what did\n",
            "Target Words: happy prince . high above the city on a tall column stood the statue of the happy prince . he was very much admired indeed . one night there flew over the city a little swallow . then when the autumn came they all flew away . what did he\n"
          ]
        }
      ]
    },
    {
      "cell_type": "code",
      "source": [
        "BATCH_SIZE = 64\n",
        "\n",
        "dataloader = DataLoader(dataset, batch_size = BATCH_SIZE, shuffle = True, drop_last = True)"
      ],
      "metadata": {
        "id": "rBv_luxtDuu5"
      },
      "execution_count": 11,
      "outputs": []
    },
    {
      "cell_type": "code",
      "source": [
        "DEVICE = torch.device(\"cuda:0\" if torch.cuda.is_available() else \"cpu\")\n",
        "DEVICE"
      ],
      "metadata": {
        "colab": {
          "base_uri": "https://localhost:8080/"
        },
        "id": "wvf5BJ-LZSBY",
        "outputId": "073abae8-6509-43ab-cc9a-2e597d59772f"
      },
      "execution_count": 12,
      "outputs": [
        {
          "output_type": "execute_result",
          "data": {
            "text/plain": [
              "device(type='cuda', index=0)"
            ]
          },
          "metadata": {},
          "execution_count": 12
        }
      ]
    },
    {
      "cell_type": "code",
      "source": [
        "class RNN(nn.Module):\n",
        "    def __init__(self, vocab_size, embed_dim, rnn_hidden_size):\n",
        "        super().__init__()\n",
        "        self.embedding = nn.Embedding(vocab_size, embed_dim)\n",
        "        self.rnn_hidden_size = rnn_hidden_size\n",
        "        self.rnn = nn.LSTM(embed_dim, rnn_hidden_size,\n",
        "                           batch_first=True)\n",
        "        self.fc = nn.Linear(rnn_hidden_size, vocab_size)\n",
        "\n",
        "    def forward(self, x, hidden, cell):\n",
        "        out = self.embedding(x).unsqueeze(1)\n",
        "        out, (hidden, cell) = self.rnn(out, (hidden, cell))\n",
        "        out = self.fc(out).reshape(out.size(0), -1)\n",
        "        return out, hidden, cell\n",
        "\n",
        "    def init_hidden(self, batch_size):\n",
        "        hidden = torch.zeros(1, batch_size, self.rnn_hidden_size)\n",
        "        cell = torch.zeros(1, batch_size, self.rnn_hidden_size)\n",
        "        return hidden.to(DEVICE), cell.to(DEVICE)\n",
        "\n",
        "vocab_size = len(vocab)\n",
        "embed_dim = 256\n",
        "rnn_hidden_size = 512\n",
        "\n",
        "model = RNN(vocab_size, embed_dim, rnn_hidden_size)\n",
        "model = model.to(DEVICE)\n",
        "model"
      ],
      "metadata": {
        "colab": {
          "base_uri": "https://localhost:8080/"
        },
        "id": "h0XB60yOZVrI",
        "outputId": "c8b8c109-2c4d-40eb-9d95-1a44a7f4f140"
      },
      "execution_count": 16,
      "outputs": [
        {
          "output_type": "execute_result",
          "data": {
            "text/plain": [
              "RNN(\n",
              "  (embedding): Embedding(5372, 256)\n",
              "  (rnn): LSTM(256, 512, batch_first=True)\n",
              "  (fc): Linear(in_features=512, out_features=5372, bias=True)\n",
              ")"
            ]
          },
          "metadata": {},
          "execution_count": 16
        }
      ]
    },
    {
      "cell_type": "code",
      "source": [
        "for name, param in model.named_parameters():\n",
        "    if param.requires_grad:\n",
        "        print(f'Parameter name: {name}, Shape: {param.shape}')"
      ],
      "metadata": {
        "colab": {
          "base_uri": "https://localhost:8080/"
        },
        "id": "PEIoAl6aAdtQ",
        "outputId": "5a431b4a-f50c-432b-9479-d11cd11205fc"
      },
      "execution_count": 20,
      "outputs": [
        {
          "output_type": "stream",
          "name": "stdout",
          "text": [
            "Parameter name: embedding.weight, Shape: torch.Size([5372, 256])\n",
            "Parameter name: rnn.weight_ih_l0, Shape: torch.Size([2048, 256])\n",
            "Parameter name: rnn.weight_hh_l0, Shape: torch.Size([2048, 512])\n",
            "Parameter name: rnn.bias_ih_l0, Shape: torch.Size([2048])\n",
            "Parameter name: rnn.bias_hh_l0, Shape: torch.Size([2048])\n",
            "Parameter name: fc.weight, Shape: torch.Size([5372, 512])\n",
            "Parameter name: fc.bias, Shape: torch.Size([5372])\n"
          ]
        }
      ]
    },
    {
      "cell_type": "code",
      "source": [
        "def train(model, lr, epochs, device = DEVICE):\n",
        "    accuracyArray = []\n",
        "    lossArray = []\n",
        "    seqLength = 50\n",
        "\n",
        "    model.to(DEVICE)\n",
        "    model.train()\n",
        "    loss_fn = nn.CrossEntropyLoss()\n",
        "    optimizer = torch.optim.Adam(model.parameters(), lr=lr)\n",
        "\n",
        "    for epoch in range(epochs):\n",
        "        hidden, cell = model.init_hidden(BATCH_SIZE)\n",
        "        seq_batch, target_batch = next(iter(dataloader))\n",
        "        seq_batch = seq_batch.to(device)\n",
        "        target_batch = target_batch.to(device)\n",
        "        optimizer.zero_grad()\n",
        "        loss = 0\n",
        "        correct_predictions = 0\n",
        "        total_predictions = 0\n",
        "\n",
        "        for w in range(seqLength):\n",
        "            pred, hidden, cell = model(seq_batch[:, w], hidden, cell)\n",
        "            loss += loss_fn(pred, target_batch[:, w])\n",
        "\n",
        "            _, predicted_indices = torch.max(pred, 1)\n",
        "            correct_predictions += torch.sum(predicted_indices == target_batch[:, w])\n",
        "            total_predictions += target_batch[:, w].numel()\n",
        "\n",
        "        accuracy = correct_predictions.item() / total_predictions\n",
        "        accuracyArray.append(accuracy)\n",
        "        loss.backward()\n",
        "        optimizer.step()\n",
        "        loss = loss.item() / seqLength\n",
        "        lossArray.append(loss)\n",
        "\n",
        "        if epoch % 500 == 0:\n",
        "            print(f'Epoch {epoch} loss: {loss:.4f}, Accuracy: {accuracy:.4f}')\n",
        "\n",
        "    plt.plot(accuracyArray)\n",
        "    plt.plot(lossArray)\n",
        "    plt.legend(['Accuracy', 'Loss'])\n",
        "    plt.title(f\"{epochs} Epochs on {lr} Learning Rate\")\n",
        "    plt.show()"
      ],
      "metadata": {
        "id": "mjHiDTI1_gp5"
      },
      "execution_count": 31,
      "outputs": []
    },
    {
      "cell_type": "code",
      "source": [
        "train(model, 0.001, 500)"
      ],
      "metadata": {
        "colab": {
          "base_uri": "https://localhost:8080/",
          "height": 470
        },
        "id": "0EWvidL6C6By",
        "outputId": "1c39fdcc-c9c5-47f0-9ec9-9f932b55a96d"
      },
      "execution_count": 32,
      "outputs": [
        {
          "output_type": "stream",
          "name": "stdout",
          "text": [
            "Epoch 0 loss: 6.3506, Accuracy: 0.0869\n"
          ]
        },
        {
          "output_type": "display_data",
          "data": {
            "text/plain": [
              "<Figure size 640x480 with 1 Axes>"
            ],
            "image/png": "[encoded data removed]"
          },
          "metadata": {}
        }
      ]
    },
    {
      "cell_type": "code",
      "source": [
        "def top_p_sampling(logits, temperature=1.0, top_p=0.9):\n",
        "    scaled_logits = logits / temperature\n",
        "    probabilities = torch.softmax(scaled_logits, dim=-1)\n",
        "    sorted_indices = torch.argsort(probabilities, descending=True)\n",
        "    sorted_probabilities = probabilities[sorted_indices]\n",
        "    cumulative_probabilities = torch.cumsum(sorted_probabilities, dim=-1)\n",
        "    indices_to_keep = cumulative_probabilities <= top_p\n",
        "    truncated_probabilities = sorted_probabilities[indices_to_keep]\n",
        "    truncated_probabilities /= torch.sum(truncated_probabilities)\n",
        "    truncated_probabilities = truncated_probabilities.cpu().numpy()\n",
        "    sorted_indices = sorted_indices.cpu().numpy()\n",
        "    indices_to_keep = indices_to_keep.cpu().numpy()\n",
        "\n",
        "    if not indices_to_keep.any():\n",
        "        probabilities = torch.softmax(logits / temperature, dim=-1)\n",
        "        next_word_index = torch.multinomial(probabilities, 1).item()\n",
        "    else:\n",
        "        next_word_index = np.random.choice(sorted_indices[indices_to_keep], p=truncated_probabilities)\n",
        "\n",
        "    return torch.tensor(next_word_index).to(DEVICE)"
      ],
      "metadata": {
        "id": "tACIXoPVbKP4"
      },
      "execution_count": 34,
      "outputs": []
    },
    {
      "cell_type": "code",
      "source": [
        "def generate(model, seed_str,\n",
        "           len_generated_text=100,\n",
        "           temperature=1, top_p=0.95):\n",
        "    model.to(DEVICE)\n",
        "    tokenizer = get_tokenizer(\"basic_english\")\n",
        "    seed_tokens = tokenizer(seed_str)\n",
        "\n",
        "    encoded_input = torch.tensor([vocab[t] for t in seed_tokens])\n",
        "    encoded_input = torch.reshape(encoded_input, (1, -1)).to(DEVICE)\n",
        "\n",
        "    generated_str = seed_str\n",
        "\n",
        "    model.eval()\n",
        "    with torch.inference_mode():\n",
        "      hidden, cell = model.init_hidden(1)\n",
        "      hidden = hidden.to(DEVICE)\n",
        "      cell = cell.to(DEVICE)\n",
        "      for w in range(len(seed_tokens)-1):\n",
        "          _, hidden, cell = model(encoded_input[:, w].view(1), hidden, cell)\n",
        "\n",
        "      last_word = encoded_input[:, -1]\n",
        "      for i in range(len_generated_text):\n",
        "          logits, hidden, cell = model(last_word.view(1), hidden, cell)\n",
        "          logits = torch.squeeze(logits, 0)\n",
        "          last_word = top_p_sampling(logits, temperature, top_p)\n",
        "          generated_str += \" \" + str(vocab.lookup_token(last_word))\n",
        "\n",
        "\n",
        "    text = generated_str.replace(' . ', '. ')\n",
        "\n",
        "\n",
        "    grammar_errors = tool.check(text)\n",
        "    english_vocab = set(words.words())\n",
        "    text_words = re.findall(r'\\b\\w+\\b', text.lower())\n",
        "    vocabulary_errors = [word for word in text_words if word not in english_vocab]\n",
        "\n",
        "    wrapped_output = textwrap.fill(text, width=80)\n",
        "    print(f'Generated String of Length {len_generated_text} with {temperature} Temperature - \\n{wrapped_output}')\n",
        "    print()\n",
        "    print(\"Grammar Errors:\", *grammar_errors)\n",
        "    print(\"Vocabulary Errors:\", vocabulary_errors)\n"
      ],
      "metadata": {
        "id": "8Lr0vIxoHA9x"
      },
      "execution_count": 61,
      "outputs": []
    },
    {
      "cell_type": "code",
      "source": [
        "train(model, 0.001, 5000)"
      ],
      "metadata": {
        "colab": {
          "base_uri": "https://localhost:8080/",
          "height": 630
        },
        "id": "Ju6xMpsoDc-F",
        "outputId": "1a0e5946-5d9d-40b4-d5f2-1c04ec8b6d99"
      },
      "execution_count": 33,
      "outputs": [
        {
          "output_type": "stream",
          "name": "stdout",
          "text": [
            "Epoch 0 loss: 4.6608, Accuracy: 0.1737\n",
            "Epoch 500 loss: 4.3796, Accuracy: 0.1859\n",
            "Epoch 1000 loss: 3.9847, Accuracy: 0.2328\n",
            "Epoch 1500 loss: 3.8155, Accuracy: 0.2516\n",
            "Epoch 2000 loss: 3.5119, Accuracy: 0.2897\n",
            "Epoch 2500 loss: 3.4246, Accuracy: 0.2944\n",
            "Epoch 3000 loss: 3.2306, Accuracy: 0.3203\n",
            "Epoch 3500 loss: 3.0422, Accuracy: 0.3441\n",
            "Epoch 4000 loss: 2.9058, Accuracy: 0.3778\n",
            "Epoch 4500 loss: 2.7695, Accuracy: 0.4006\n"
          ]
        },
        {
          "output_type": "display_data",
          "data": {
            "text/plain": [
              "<Figure size 640x480 with 1 Axes>"
            ],
            "image/png": "[encoded data removed]"
          },
          "metadata": {}
        }
      ]
    },
    {
      "cell_type": "code",
      "source": [
        "generate(model, seed_str='The king')"
      ],
      "metadata": {
        "id": "fEekaDV-bd1d",
        "outputId": "37b2e1f2-878b-44bc-b272-368a2ea11249",
        "colab": {
          "base_uri": "https://localhost:8080/"
        }
      },
      "execution_count": 63,
      "outputs": [
        {
          "output_type": "stream",
          "name": "stdout",
          "text": [
            "Generated String of Length 100 with 1 Temperature - \n",
            "The king. the children must be alone. they used to do it and they started down\n",
            "the great stone until the house would have been trying to enjoy it. so the boy\n",
            "went on it took out the knife in the middle of the forest. asked dorothy. they\n",
            "asked her with the wizard for his own family. then after a while the two were\n",
            "about the fruits and guardian of the north. the window the cat went to the boy\n",
            "and asked him what was his best and upon them. the next day the\n",
            "\n",
            "Grammar Errors: Offset 10, length 3, Rule ID: UPPERCASE_SENTENCE_START\n",
            "Message: This sentence does not start with an uppercase letter.\n",
            "Suggestion: The\n",
            "The king. the children must be alone. they used to do...\n",
            "          ^^^ Offset 38, length 4, Rule ID: UPPERCASE_SENTENCE_START\n",
            "Message: This sentence does not start with an uppercase letter.\n",
            "Suggestion: They\n",
            "The king. the children must be alone. they used to do it and they started down the...\n",
            "                                      ^^^^ Offset 56, length 4, Rule ID: COMMA_COMPOUND_SENTENCE\n",
            "Message: Use a comma before ‘and’ if it connects two independent clauses (unless they are closely connected and short).\n",
            "Suggestion: , and\n",
            "...ildren must be alone. they used to do it and they started down the great stone until...\n",
            "                                           ^^^^ Offset 147, length 2, Rule ID: UPPERCASE_SENTENCE_START\n",
            "Message: This sentence does not start with an uppercase letter.\n",
            "Suggestion: So\n",
            "...use would have been trying to enjoy it. so the boy went on it took out the knife i...\n",
            "                                           ^^ Offset 217, length 5, Rule ID: UPPERCASE_SENTENCE_START\n",
            "Message: This sentence does not start with an uppercase letter.\n",
            "Suggestion: Asked\n",
            "... the knife in the middle of the forest. asked dorothy. they asked her with the wizard...\n",
            "                                           ^^^^^ Offset 223, length 7, Rule ID: MORFOLOGIK_RULE_EN_US\n",
            "Message: Possible spelling mistake found.\n",
            "Suggestion: Dorothy; Dorthy; worthy; Dorothea; Horthy; frothy; toothy\n",
            "...nife in the middle of the forest. asked dorothy. they asked her with the wizard for his...\n",
            "                                           ^^^^^^^ Offset 232, length 4, Rule ID: UPPERCASE_SENTENCE_START\n",
            "Message: This sentence does not start with an uppercase letter.\n",
            "Suggestion: They\n",
            "...he middle of the forest. asked dorothy. they asked her with the wizard for his own f...\n",
            "                                           ^^^^ Offset 283, length 4, Rule ID: UPPERCASE_SENTENCE_START\n",
            "Message: This sentence does not start with an uppercase letter.\n",
            "Suggestion: Then\n",
            "...her with the wizard for his own family. then after a while the two were about the fr...\n",
            "                                           ^^^^ Offset 359, length 3, Rule ID: UPPERCASE_SENTENCE_START\n",
            "Message: This sentence does not start with an uppercase letter.\n",
            "Suggestion: The\n",
            "...t the fruits and guardian of the north. the window the cat went to the boy and aske...\n",
            "                                           ^^^ Offset 441, length 3, Rule ID: UPPERCASE_SENTENCE_START\n",
            "Message: This sentence does not start with an uppercase letter.\n",
            "Suggestion: The\n",
            "...ed him what was his best and upon them. the next day the\n",
            "                                           ^^^\n",
            "Vocabulary Errors: ['children', 'started', 'asked', 'dorothy', 'asked', 'fruits', 'asked']\n"
          ]
        }
      ]
    },
    {
      "cell_type": "code",
      "source": [
        "generate(model, seed_str='The king', temperature = 0.5)"
      ],
      "metadata": {
        "colab": {
          "base_uri": "https://localhost:8080/"
        },
        "id": "InudYs5AFnxn",
        "outputId": "a7e9959c-5f08-4a51-e4a8-9cda8cd6f8de"
      },
      "execution_count": 62,
      "outputs": [
        {
          "output_type": "stream",
          "name": "stdout",
          "text": [
            "Generated String of Length 100 with 0.5 Temperature - \n",
            "The king and queen had sent for her to the king. they were the most beautiful\n",
            "maiden all of the family that they had left them. now the king had to be taken\n",
            "from the field all the beasts of the lad who was so beautiful that he could not\n",
            "get away from the golden fleece. when he reached them he discovered that the\n",
            "time was so great that he was a king. he was a king and queen and his mother had\n",
            "a hard life of the country to be married. after this the brahmin expressed\n",
            "\n",
            "Grammar Errors: Offset 49, length 4, Rule ID: UPPERCASE_SENTENCE_START\n",
            "Message: This sentence does not start with an uppercase letter.\n",
            "Suggestion: They\n",
            "...and queen had sent for her to the king. they were the most beautiful maiden all of t...\n",
            "                                           ^^^^ Offset 85, length 10, Rule ID: ALL_OF_THE\n",
            "Message: Consider using “all the”.\n",
            "Suggestion: all the\n",
            "...ng. they were the most beautiful maiden all of the family that they had left them. now the...\n",
            "                                           ^^^^^^^^^^ Offset 128, length 3, Rule ID: UPPERCASE_SENTENCE_START\n",
            "Message: This sentence does not start with an uppercase letter.\n",
            "Suggestion: Now\n",
            "... of the family that they had left them. now the king had to be taken from the field...\n",
            "                                           ^^^ Offset 270, length 4, Rule ID: UPPERCASE_SENTENCE_START\n",
            "Message: This sentence does not start with an uppercase letter.\n",
            "Suggestion: When\n",
            "...ld not get away from the golden fleece. when he reached them he discovered that the ...\n",
            "                                           ^^^^ Offset 352, length 2, Rule ID: UPPERCASE_SENTENCE_START\n",
            "Message: This sentence does not start with an uppercase letter.\n",
            "Suggestion: He\n",
            "...e time was so great that he was a king. he was a king and queen and his mother had...\n",
            "                                           ^^ Offset 437, length 5, Rule ID: UPPERCASE_SENTENCE_START\n",
            "Message: This sentence does not start with an uppercase letter.\n",
            "Suggestion: After\n",
            "...hard life of the country to be married. after this the brahmin expressed\n",
            "                                           ^^^^^\n",
            "Vocabulary Errors: ['beasts', 'reached', 'brahmin']\n"
          ]
        }
      ]
    },
    {
      "cell_type": "code",
      "source": [
        "train(model, 0.01, 10000)"
      ],
      "metadata": {
        "colab": {
          "base_uri": "https://localhost:8080/",
          "height": 808
        },
        "id": "Ey83ja0nICml",
        "outputId": "bd10b35e-b980-4e5c-fd89-fc40b9086b4c"
      },
      "execution_count": 64,
      "outputs": [
        {
          "output_type": "stream",
          "name": "stdout",
          "text": [
            "Epoch 0 loss: 2.7800, Accuracy: 0.3941\n",
            "Epoch 500 loss: 3.3498, Accuracy: 0.2969\n",
            "Epoch 1000 loss: 3.2255, Accuracy: 0.3200\n",
            "Epoch 1500 loss: 3.2077, Accuracy: 0.3041\n",
            "Epoch 2000 loss: 3.0357, Accuracy: 0.3216\n",
            "Epoch 2500 loss: 3.0699, Accuracy: 0.3266\n",
            "Epoch 3000 loss: 3.0706, Accuracy: 0.3178\n",
            "Epoch 3500 loss: 3.2134, Accuracy: 0.3013\n",
            "Epoch 4000 loss: 3.3437, Accuracy: 0.2787\n",
            "Epoch 4500 loss: 3.2385, Accuracy: 0.2909\n",
            "Epoch 5000 loss: 3.1987, Accuracy: 0.2972\n",
            "Epoch 5500 loss: 3.2862, Accuracy: 0.2884\n",
            "Epoch 6000 loss: 3.2766, Accuracy: 0.3031\n",
            "Epoch 6500 loss: 3.3679, Accuracy: 0.2719\n",
            "Epoch 7000 loss: 3.2458, Accuracy: 0.2881\n",
            "Epoch 7500 loss: 3.4572, Accuracy: 0.2709\n",
            "Epoch 8000 loss: 3.3446, Accuracy: 0.2819\n",
            "Epoch 8500 loss: 3.3369, Accuracy: 0.2706\n",
            "Epoch 9000 loss: 3.4429, Accuracy: 0.2712\n",
            "Epoch 9500 loss: 3.2437, Accuracy: 0.2859\n"
          ]
        },
        {
          "output_type": "display_data",
          "data": {
            "text/plain": [
              "<Figure size 640x480 with 1 Axes>"
            ],
            "image/png": "[encoded data removed]"
          },
          "metadata": {}
        }
      ]
    },
    {
      "cell_type": "code",
      "source": [
        "generate(model, seed_str='The king')"
      ],
      "metadata": {
        "colab": {
          "base_uri": "https://localhost:8080/"
        },
        "id": "bdWxQBO1IVPu",
        "outputId": "e8c81acc-0378-4efc-efa4-0a96bda919eb"
      },
      "execution_count": 65,
      "outputs": [
        {
          "output_type": "stream",
          "name": "stdout",
          "text": [
            "Generated String of Length 100 with 1 Temperature - \n",
            "The king found he searched every day even the mouse again to see if but they\n",
            "didnt know what a guy could be had. one hundred these hid the wall frozen to at\n",
            "a moment and lo t run away. the birds had been so late that it were little past\n",
            "the kings daughter followed through the house. she ran up to ring as if she\n",
            "could make him wedding and every day and to it the rajah brought him a large and\n",
            "to lay down to sleep. soon following everybody they went into the garden. when\n",
            "\n",
            "Grammar Errors: Offset 65, length 6, Rule ID: AND_BUT\n",
            "Message: Please check if you only wanted to use one conjunction here.\n",
            "Suggestion: if; but\n",
            "...d every day even the mouse again to see if but they didnt know what a guy could be had...\n",
            "                                           ^^^^^^ Offset 77, length 5, Rule ID: EN_CONTRACTION_SPELLING\n",
            "Message: Possible spelling mistake found.\n",
            "Suggestion: didn't\n",
            "...even the mouse again to see if but they didnt know what a guy could be had. one hundr...\n",
            "                                           ^^^^^ Offset 113, length 3, Rule ID: UPPERCASE_SENTENCE_START\n",
            "Message: This sentence does not start with an uppercase letter.\n",
            "Suggestion: One\n",
            "...hey didnt know what a guy could be had. one hundred these hid the wall frozen to at...\n",
            "                                           ^^^ Offset 185, length 3, Rule ID: UPPERCASE_SENTENCE_START\n",
            "Message: This sentence does not start with an uppercase letter.\n",
            "Suggestion: The\n",
            "...rozen to at a moment and lo t run away. the birds had been so late that it were lit...\n",
            "                                           ^^^ Offset 241, length 5, Rule ID: POSSESSIVE_APOSTROPHE\n",
            "Message: An apostrophe may be missing.\n",
            "Suggestion: kings'; king's\n",
            "...en so late that it were little past the kings daughter followed through the house. sh...\n",
            "                                           ^^^^^ Offset 284, length 3, Rule ID: UPPERCASE_SENTENCE_START\n",
            "Message: This sentence does not start with an uppercase letter.\n",
            "Suggestion: She\n",
            "...gs daughter followed through the house. she ran up to ring as if she could make him...\n",
            "                                           ^^^ Offset 416, length 4, Rule ID: UPPERCASE_SENTENCE_START\n",
            "Message: This sentence does not start with an uppercase letter.\n",
            "Suggestion: Soon\n",
            "...t him a large and to lay down to sleep. soon following everybody they went into the ...\n",
            "                                           ^^^^ Offset 468, length 4, Rule ID: UPPERCASE_SENTENCE_START\n",
            "Message: This sentence does not start with an uppercase letter.\n",
            "Suggestion: When\n",
            "...ng everybody they went into the garden. when\n",
            "                                           ^^^^\n",
            "Vocabulary Errors: ['searched', 'hid', 'birds', 'kings', 'followed']\n"
          ]
        }
      ]
    }
  ]
}