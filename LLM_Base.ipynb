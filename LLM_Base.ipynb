{
  "nbformat": 4,
  "nbformat_minor": 0,
  "metadata": {
    "colab": {
      "provenance": [],
      "gpuType": "T4",
      "authorship_tag": "ABX9TyMqjY3V7Na36q/HnnFC1ovy",
      "include_colab_link": true
    },
    "kernelspec": {
      "name": "python3",
      "display_name": "Python 3"
    },
    "language_info": {
      "name": "python"
    },
    "accelerator": "GPU"
  },
  "cells": [
    {
      "cell_type": "markdown",
      "metadata": {
        "id": "view-in-github",
        "colab_type": "text"
      },
      "source": [
        "<a href=\"https://colab.research.google.com/github/PremKumar-V/Advance_Projects/blob/main/LLM_Base.ipynb\" target=\"_parent\"><img src=\"https://colab.research.google.com/assets/colab-badge.svg\" alt=\"Open In Colab\"/></a>"
      ]
    },
    {
      "cell_type": "code",
      "source": [
        "import re\n",
        "import string\n",
        "import requests\n",
        "import random\n",
        "\n",
        "import numpy as np\n",
        "\n",
        "import matplotlib.pyplot as plt\n",
        "%matplotlib inline\n",
        "\n",
        "import torch\n",
        "import torch.nn as nn\n",
        "import torch.optim as optim\n",
        "from torch.utils.data import Dataset, DataLoader\n",
        "\n",
        "from torchtext.vocab import build_vocab_from_iterator\n",
        "from torchtext.data.utils import get_tokenizer, ngrams_iterator"
      ],
      "metadata": {
        "id": "soKWO1BETI-p"
      },
      "execution_count": 97,
      "outputs": []
    },
    {
      "cell_type": "code",
      "source": [
        "DATA_URL = 'https://raw.githubusercontent.com/kyuz0/llm-chronicles/main/4.4%20-%20Lab%20-%20Word-Level%20RNN/fairy_tales_cleaned_most_common_5000_words.txt'\n",
        "FILE_PATH = './data.txt'\n",
        "\n",
        "def getData():\n",
        "    response = requests.get(DATA_URL)\n",
        "    with open(FILE_PATH, 'w') as file:\n",
        "        file.write(response.text)\n",
        "\n",
        "    with open(FILE_PATH, 'r') as file:\n",
        "        text = file.read()\n",
        "\n",
        "    return text\n",
        "\n",
        "data = getData()"
      ],
      "metadata": {
        "id": "SFQUxvZgTdqJ"
      },
      "execution_count": 2,
      "outputs": []
    },
    {
      "cell_type": "code",
      "source": [
        "print(f\"Length of Data: {len(data)}\")"
      ],
      "metadata": {
        "colab": {
          "base_uri": "https://localhost:8080/"
        },
        "id": "7a3qeQcPTydo",
        "outputId": "9d528bc2-a829-48b7-d82f-e7d8cec65976"
      },
      "execution_count": 3,
      "outputs": [
        {
          "output_type": "stream",
          "name": "stdout",
          "text": [
            "Length of Data: 2751174\n"
          ]
        }
      ]
    },
    {
      "cell_type": "code",
      "source": [
        "print(f\"Sample Data: '{data[:100]}'\")"
      ],
      "metadata": {
        "colab": {
          "base_uri": "https://localhost:8080/"
        },
        "id": "IO3ivu5SU6MR",
        "outputId": "f629993d-68cd-4e59-d22b-9b692d4ee95e"
      },
      "execution_count": 4,
      "outputs": [
        {
          "output_type": "stream",
          "name": "stdout",
          "text": [
            "Sample Data: 'the happy prince. high above the city on a tall column stood the statue of the happy prince. he was '\n"
          ]
        }
      ]
    },
    {
      "cell_type": "code",
      "source": [
        "sampleData = data[:95]\n",
        "sampleData"
      ],
      "metadata": {
        "colab": {
          "base_uri": "https://localhost:8080/",
          "height": 35
        },
        "id": "7qzbPe39VIPL",
        "outputId": "467e6d22-75c0-4d63-a6c9-7336479ad466"
      },
      "execution_count": 5,
      "outputs": [
        {
          "output_type": "execute_result",
          "data": {
            "text/plain": [
              "'the happy prince. high above the city on a tall column stood the statue of the happy prince. he'"
            ],
            "application/vnd.google.colaboratory.intrinsic+json": {
              "type": "string"
            }
          },
          "metadata": {},
          "execution_count": 5
        }
      ]
    },
    {
      "cell_type": "code",
      "source": [
        "class Preprocessor():\n",
        "    def __init__(self, data):\n",
        "        self.data = data\n",
        "        self.seq_length = 50\n",
        "        self.chunk_size = self.seq_length + 1\n",
        "        self.tokenizer = get_tokenizer('basic_english')\n",
        "\n",
        "    def tokenize(self):\n",
        "        return self.tokenizer(self.data)\n",
        "\n",
        "    def buildVocab(self, tokens):\n",
        "\n",
        "        def token_iterator():\n",
        "            yield tokens\n",
        "\n",
        "        vocab = build_vocab_from_iterator(token_iterator(), min_freq=1)\n",
        "        return vocab\n",
        "\n",
        "    def encodeTokens(self, tokens, vocab):\n",
        "        encoding = torch.tensor([vocab[token] for token in tokens], dtype=torch.long)\n",
        "\n",
        "        text_chunks = [encoding[i:i + self.chunk_size] for i in range(len(encoding) - self.chunk_size + 1)]\n",
        "\n",
        "        for seq in text_chunks[:1]:\n",
        "            input_seq = seq[:self.seq_length]\n",
        "            target = seq[self.seq_length]\n",
        "\n",
        "            input_seq_list = input_seq.tolist()\n",
        "            target_list = target.tolist()\n",
        "\n",
        "        return text_chunks\n",
        "\n",
        "    def getData(self):\n",
        "        tokens = self.tokenize()\n",
        "        vocab = self.buildVocab(tokens)\n",
        "        encodings = self.encodeTokens(tokens, vocab)\n",
        "\n",
        "        return tokens, vocab, encodings"
      ],
      "metadata": {
        "id": "m4T9KOmAvgyD"
      },
      "execution_count": 54,
      "outputs": []
    },
    {
      "cell_type": "code",
      "source": [
        "preprocessor = Preprocessor(data)\n",
        "tokens, vocab, textChunks = preprocessor.getData()\n",
        "\n",
        "print(f'Tokens: {tokens[:20]}')\n",
        "print(f\"Length of Tokens: {len(tokens)}\")\n",
        "print(f\"Length of Vocabulary: {len(vocab)}\")"
      ],
      "metadata": {
        "colab": {
          "base_uri": "https://localhost:8080/"
        },
        "id": "MP-opR2f06cw",
        "outputId": "7118c81c-976f-427d-cf17-4dbe96ef706a"
      },
      "execution_count": 55,
      "outputs": [
        {
          "output_type": "stream",
          "name": "stdout",
          "text": [
            "Tokens: ['the', 'happy', 'prince', '.', 'high', 'above', 'the', 'city', 'on', 'a', 'tall', 'column', 'stood', 'the', 'statue', 'of', 'the', 'happy', 'prince', '.']\n",
            "Length of Tokens: 584959\n",
            "Length of Vocabulary: 5372\n"
          ]
        }
      ]
    },
    {
      "cell_type": "code",
      "source": [
        "textChunks[:3]"
      ],
      "metadata": {
        "colab": {
          "base_uri": "https://localhost:8080/"
        },
        "id": "28Le18I39kK1",
        "outputId": "7252690b-2367-4674-f597-b50d321f7cbd"
      },
      "execution_count": 58,
      "outputs": [
        {
          "output_type": "execute_result",
          "data": {
            "text/plain": [
              "[tensor([   1,  237,  106,    0,  436,  677,    1,  664,   27,    5, 1337, 4745,\n",
              "          179,    1, 3888,    7,    1,  237,  106,    0,    4,    6,   49,  101,\n",
              "         3493,  284,    0,   36,  138,   34,  338,  104,    1,  664,    5,   43,\n",
              "         1856,    0,   38,   32,    1, 2399,   52,   20,   26,  338,   81,    0,\n",
              "           35,   50,    4]),\n",
              " tensor([ 237,  106,    0,  436,  677,    1,  664,   27,    5, 1337, 4745,  179,\n",
              "            1, 3888,    7,    1,  237,  106,    0,    4,    6,   49,  101, 3493,\n",
              "          284,    0,   36,  138,   34,  338,  104,    1,  664,    5,   43, 1856,\n",
              "            0,   38,   32,    1, 2399,   52,   20,   26,  338,   81,    0,   35,\n",
              "           50,    4,   59]),\n",
              " tensor([ 106,    0,  436,  677,    1,  664,   27,    5, 1337, 4745,  179,    1,\n",
              "         3888,    7,    1,  237,  106,    0,    4,    6,   49,  101, 3493,  284,\n",
              "            0,   36,  138,   34,  338,  104,    1,  664,    5,   43, 1856,    0,\n",
              "           38,   32,    1, 2399,   52,   20,   26,  338,   81,    0,   35,   50,\n",
              "            4,   59,    1])]"
            ]
          },
          "metadata": {},
          "execution_count": 58
        }
      ]
    },
    {
      "cell_type": "code",
      "source": [
        "class TextDataset(Dataset):\n",
        "    def __init__(self, text_chunks):\n",
        "        self.text_chunks = text_chunks\n",
        "\n",
        "    def __len__(self):\n",
        "        return len(self.text_chunks)\n",
        "\n",
        "    def __getitem__(self, idx):\n",
        "        text_chunk = self.text_chunks[idx]\n",
        "        return text_chunk[:-1].long(), text_chunk[1:].long()\n",
        "\n",
        "dataset = TextDataset(textChunks)"
      ],
      "metadata": {
        "id": "hH-nhSAnY8kT"
      },
      "execution_count": 67,
      "outputs": []
    },
    {
      "cell_type": "code",
      "source": [
        "for i in range(1):\n",
        "    values = dataset[i]\n",
        "    inputs, targets = values\n",
        "    inputs_words = \" \".join(vocab.lookup_tokens(inputs.tolist()))\n",
        "    targets_words = \" \".join(vocab.lookup_tokens(targets.tolist()))\n",
        "\n",
        "    print(f\"Input Tokens: {inputs}\")\n",
        "    print(f\"Target Tokens: {targets}\")\n",
        "    print(f\"Input Words: {inputs_words}\")\n",
        "    print(f\"Target Words: {targets_words}\")"
      ],
      "metadata": {
        "colab": {
          "base_uri": "https://localhost:8080/"
        },
        "id": "v-F8g2RGArvk",
        "outputId": "75b1d1e4-deb4-4da4-d362-c827f44041d5"
      },
      "execution_count": 90,
      "outputs": [
        {
          "output_type": "stream",
          "name": "stdout",
          "text": [
            "Input Tokens: tensor([   1,  237,  106,    0,  436,  677,    1,  664,   27,    5, 1337, 4745,\n",
            "         179,    1, 3888,    7,    1,  237,  106,    0,    4,    6,   49,  101,\n",
            "        3493,  284,    0,   36,  138,   34,  338,  104,    1,  664,    5,   43,\n",
            "        1856,    0,   38,   32,    1, 2399,   52,   20,   26,  338,   81,    0,\n",
            "          35,   50])\n",
            "Target Tokens: tensor([ 237,  106,    0,  436,  677,    1,  664,   27,    5, 1337, 4745,  179,\n",
            "           1, 3888,    7,    1,  237,  106,    0,    4,    6,   49,  101, 3493,\n",
            "         284,    0,   36,  138,   34,  338,  104,    1,  664,    5,   43, 1856,\n",
            "           0,   38,   32,    1, 2399,   52,   20,   26,  338,   81,    0,   35,\n",
            "          50,    4])\n",
            "Input Words: the happy prince . high above the city on a tall column stood the statue of the happy prince . he was very much admired indeed . one night there flew over the city a little swallow . then when the autumn came they all flew away . what did\n",
            "Target Words: happy prince . high above the city on a tall column stood the statue of the happy prince . he was very much admired indeed . one night there flew over the city a little swallow . then when the autumn came they all flew away . what did he\n"
          ]
        }
      ]
    },
    {
      "cell_type": "code",
      "source": [
        "BATCH_SIZE = 64\n",
        "\n",
        "dataloader = DataLoader(dataset, batch_size = BATCH_SIZE, shuffle = True, drop_last = True)"
      ],
      "metadata": {
        "id": "rBv_luxtDuu5"
      },
      "execution_count": 91,
      "outputs": []
    },
    {
      "cell_type": "code",
      "source": [
        "DEVICE = torch.device(\"cuda:0\" if torch.cuda.is_available() else \"cpu\")\n",
        "DEVICE"
      ],
      "metadata": {
        "colab": {
          "base_uri": "https://localhost:8080/"
        },
        "id": "wvf5BJ-LZSBY",
        "outputId": "8f6c8a5e-b76a-4cbf-e751-90b8bffded83"
      },
      "execution_count": 92,
      "outputs": [
        {
          "output_type": "execute_result",
          "data": {
            "text/plain": [
              "device(type='cuda', index=0)"
            ]
          },
          "metadata": {},
          "execution_count": 92
        }
      ]
    },
    {
      "cell_type": "code",
      "source": [
        "class RNN(nn.Module):\n",
        "    def __init__(self, vocab_size, embed_dim, rnn_hidden_size):\n",
        "        super().__init__()\n",
        "        self.embedding = nn.Embedding(vocab_size, embed_dim)\n",
        "        self.rnn_hidden_size = rnn_hidden_size\n",
        "        self.rnn = nn.LSTM(embed_dim, rnn_hidden_size,\n",
        "                           batch_first=True)\n",
        "        self.fc = nn.Linear(rnn_hidden_size, vocab_size)\n",
        "\n",
        "    def forward(self, x, hidden, cell):\n",
        "        out = self.embedding(x).unsqueeze(1)\n",
        "        out, (hidden, cell) = self.rnn(out, (hidden, cell))\n",
        "        out = self.fc(out).reshape(out.size(0), -1)\n",
        "        return out, hidden, cell\n",
        "\n",
        "    def init_hidden(self, batch_size):\n",
        "        hidden = torch.zeros(1, batch_size, self.rnn_hidden_size)\n",
        "        cell = torch.zeros(1, batch_size, self.rnn_hidden_size)\n",
        "        return hidden.to(DEVICE), cell.to(DEVICE)\n",
        "\n",
        "vocab_size = len(vocab)\n",
        "embed_dim = 256\n",
        "rnn_hidden_size = 512\n",
        "\n",
        "model = RNN(vocab_size, embed_dim, rnn_hidden_size)\n",
        "model = model.to(DEVICE)\n",
        "model"
      ],
      "metadata": {
        "colab": {
          "base_uri": "https://localhost:8080/"
        },
        "id": "h0XB60yOZVrI",
        "outputId": "5d1235a9-2dc9-4d6a-90f6-6fea702bc82f"
      },
      "execution_count": 94,
      "outputs": [
        {
          "output_type": "execute_result",
          "data": {
            "text/plain": [
              "RNN(\n",
              "  (embedding): Embedding(5372, 256)\n",
              "  (rnn): LSTM(256, 512, batch_first=True)\n",
              "  (fc): Linear(in_features=512, out_features=5372, bias=True)\n",
              ")"
            ]
          },
          "metadata": {},
          "execution_count": 94
        }
      ]
    },
    {
      "cell_type": "code",
      "source": [
        "loss_fn = nn.CrossEntropyLoss()\n",
        "optimizer = torch.optim.Adam(model.parameters(), lr=0.001)\n",
        "\n",
        "num_epochs = 5000\n",
        "seqLength = 50\n",
        "\n",
        "model.to(DEVICE)\n",
        "model.train()\n",
        "\n",
        "arrayForPlot = []\n",
        "\n",
        "for epoch in range(num_epochs):\n",
        "    hidden, cell = model.init_hidden(BATCH_SIZE)\n",
        "    seq_batch, target_batch = next(iter(dataloader))\n",
        "    seq_batch = seq_batch.to(DEVICE)\n",
        "    target_batch = target_batch.to(DEVICE)\n",
        "    optimizer.zero_grad()\n",
        "    loss = 0\n",
        "    for w in range(seqLength):\n",
        "        pred, hidden, cell = model(seq_batch[:, w], hidden, cell)\n",
        "        loss += loss_fn(pred, target_batch[:, w])\n",
        "    loss.backward()\n",
        "    optimizer.step()\n",
        "    loss = loss.item()/seqLength\n",
        "    arrayForPlot.append(loss)\n",
        "    if epoch % 500 == 0:\n",
        "        print(f'Epoch {epoch} loss: {loss:.4f}')"
      ],
      "metadata": {
        "colab": {
          "base_uri": "https://localhost:8080/"
        },
        "id": "HzNK7twvZbTX",
        "outputId": "9f226169-1254-4ea7-f764-9f33465435f8"
      },
      "execution_count": 96,
      "outputs": [
        {
          "output_type": "stream",
          "name": "stdout",
          "text": [
            "Epoch 0 loss: 8.5555\n",
            "Epoch 500 loss: 4.8085\n",
            "Epoch 1000 loss: 4.4330\n",
            "Epoch 1500 loss: 4.2095\n",
            "Epoch 2000 loss: 4.0737\n",
            "Epoch 2500 loss: 3.8808\n",
            "Epoch 3000 loss: 3.6622\n",
            "Epoch 3500 loss: 3.5701\n",
            "Epoch 4000 loss: 3.4104\n",
            "Epoch 4500 loss: 3.3529\n"
          ]
        }
      ]
    },
    {
      "cell_type": "code",
      "source": [
        "plt.plot(arrayForPlot)\n",
        "plt.show()"
      ],
      "metadata": {
        "colab": {
          "base_uri": "https://localhost:8080/",
          "height": 430
        },
        "id": "YhSIzUCCFJfa",
        "outputId": "c6af07a6-b026-4567-8b41-2d2f0ae831ec"
      },
      "execution_count": 99,
      "outputs": [
        {
          "output_type": "display_data",
          "data": {
            "text/plain": [
              "<Figure size 640x480 with 1 Axes>"
            ],
            "image/png": "[encoded data removed]"
          },
          "metadata": {}
        }
      ]
    },
    {
      "cell_type": "code",
      "source": [
        "def top_p_sampling(logits, temperature=1.0, top_p=0.9):\n",
        "    # Ensure logits are a PyTorch tensor and move to DEVICE\n",
        "\n",
        "    # Apply temperature scaling\n",
        "    scaled_logits = logits / temperature\n",
        "\n",
        "    # Convert logits to probabilities using softmax\n",
        "    probabilities = torch.softmax(scaled_logits, dim=-1)\n",
        "\n",
        "    # Sort probabilities and compute cumulative sum\n",
        "    sorted_indices = torch.argsort(probabilities, descending=True)\n",
        "    sorted_probabilities = probabilities[sorted_indices]\n",
        "    cumulative_probabilities = torch.cumsum(sorted_probabilities, dim=-1)\n",
        "\n",
        "    # Apply top-p filtering\n",
        "    indices_to_keep = cumulative_probabilities <= top_p\n",
        "    truncated_probabilities = sorted_probabilities[indices_to_keep]\n",
        "\n",
        "    # Rescale the probabilities\n",
        "    truncated_probabilities /= torch.sum(truncated_probabilities)\n",
        "\n",
        "    # Convert to numpy arrays for random choice\n",
        "    truncated_probabilities = truncated_probabilities.cpu().numpy()\n",
        "    sorted_indices = sorted_indices.cpu().numpy()\n",
        "    indices_to_keep = indices_to_keep.cpu().numpy()\n",
        "\n",
        "    # Sample from the truncated distribution\n",
        "    if not indices_to_keep.any():\n",
        "        # Handle the empty case - for example, using regular sampling without top-p\n",
        "        probabilities = torch.softmax(logits / temperature, dim=-1)\n",
        "        next_word_index = torch.multinomial(probabilities, 1).item()\n",
        "    else:\n",
        "        # Existing sampling process\n",
        "        next_word_index = np.random.choice(sorted_indices[indices_to_keep], p=truncated_probabilities)\n",
        "\n",
        "    return torch.tensor(next_word_index).to(DEVICE)\n"
      ],
      "metadata": {
        "id": "tACIXoPVbKP4"
      },
      "execution_count": 108,
      "outputs": []
    },
    {
      "cell_type": "code",
      "source": [
        "def generate(model, seed_str,\n",
        "           len_generated_text=50,\n",
        "           temperature=1, top_p=0.95):\n",
        "    model.to(DEVICE)\n",
        "    tokenizer = get_tokenizer(\"basic_english\")\n",
        "    seed_tokens = tokenizer(seed_str)\n",
        "\n",
        "    encoded_input = torch.tensor([vocab[t] for t in seed_tokens])\n",
        "    encoded_input = torch.reshape(encoded_input, (1, -1)).to(DEVICE)\n",
        "\n",
        "    generated_str = seed_str\n",
        "\n",
        "    model.eval()\n",
        "    with torch.inference_mode():\n",
        "      hidden, cell = model.init_hidden(1)\n",
        "      hidden = hidden.to(DEVICE)\n",
        "      cell = cell.to(DEVICE)\n",
        "      for w in range(len(seed_tokens)-1):\n",
        "          _, hidden, cell = model(encoded_input[:, w].view(1), hidden, cell)\n",
        "\n",
        "      last_word = encoded_input[:, -1]\n",
        "      for i in range(len_generated_text):\n",
        "          logits, hidden, cell = model(last_word.view(1), hidden, cell)\n",
        "          logits = torch.squeeze(logits, 0)\n",
        "          last_word = top_p_sampling(logits, temperature, top_p)\n",
        "          generated_str += \" \" + str(vocab.lookup_token(last_word))\n",
        "\n",
        "    return generated_str.replace(\" . \", \". \")"
      ],
      "metadata": {
        "id": "8Lr0vIxoHA9x"
      },
      "execution_count": 109,
      "outputs": []
    },
    {
      "cell_type": "code",
      "source": [
        "print(generate(model, seed_str='The king'))"
      ],
      "metadata": {
        "id": "fEekaDV-bd1d",
        "outputId": "5baeab87-ffa2-4228-875a-5db355b58491",
        "colab": {
          "base_uri": "https://localhost:8080/"
        }
      },
      "execution_count": 110,
      "outputs": [
        {
          "output_type": "stream",
          "name": "stdout",
          "text": [
            "The king. said he. shortly went a little further and they stopped. cried the boy. said the master. said the little girl. and now you came two miles away and they went before. they did not intend to put a engagement in the fire and\n"
          ]
        }
      ]
    }
  ]
}